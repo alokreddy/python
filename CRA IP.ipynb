{
 "cells": [
  {
   "cell_type": "markdown",
   "metadata": {},
   "source": [
    "# CRA IP FY17 Q1 "
   ]
  },
  {
   "cell_type": "code",
   "execution_count": 1,
   "metadata": {
    "collapsed": false
   },
   "outputs": [],
   "source": [
    "import pandas as pd\n",
    "from xlwings import Workbook, Range\n",
    "import numpy as np\n",
    "import os, glob, collections, functools, itertools, re, datetime"
   ]
  },
  {
   "cell_type": "code",
   "execution_count": 2,
   "metadata": {
    "collapsed": false
   },
   "outputs": [],
   "source": [
    "quarterStart = pd.Timestamp('2016-7-1')#start of the quarter\n",
    "quarterEnd = pd.Timestamp('2016-9-30')#end of the quarter\n",
    "asOnDate = '24-October-2016'"
   ]
  },
  {
   "cell_type": "code",
   "execution_count": 3,
   "metadata": {
    "collapsed": true
   },
   "outputs": [],
   "source": [
    "def headerfiller(df):\n",
    "    df.columns = [re.sub(r' |\\n', '_', c) for c in df.columns]"
   ]
  },
  {
   "cell_type": "code",
   "execution_count": 4,
   "metadata": {
    "collapsed": true
   },
   "outputs": [],
   "source": [
    "path_cancelled = r\"C:\\Users\\ReddyAl\\Documents\\CRA\\FY17 Q1\\Data from HCM and BI\\IMPACT\\RP76_On Site_Remote Visit Report Review Metrics_Ver-Oct2014 Cancelled Stopped.xls\"\n",
    "path_delayed = r\"C:\\Users\\ReddyAl\\Documents\\CRA\\FY17 Q1\\Data from HCM and BI\\IMPACT\\RP76_On Site_Remote Visit Report Review Metrics_Ver-Oct2014 delayed.xls\"\n",
    "path_ongoing = r\"C:\\Users\\ReddyAl\\Documents\\CRA\\FY17 Q1\\Data from HCM and BI\\IMPACT\\RP76_On Site_Remote Visit Report Review Metrics_Ver-Oct2014 Ongoing.xlsx\"\n",
    "path_endOfQuarterER = r\"C:\\Users\\ReddyAl\\Documents\\CRA\\FY17 Q1\\Data from HCM and BI\\Oracle\\Employee Report 24-Oct-2016.xlsx\"\n",
    "path_asOfDateER = \"C:\\Users\\ReddyAl\\Documents\\CRA\\FY17 Q1\\Data from HCM and BI\\Oracle\\Oracle Employee Report 17-Oct-2016.xlsx\"\n",
    "\n",
    "#as on end of quarter\n",
    "#path_shr = \n",
    "\n",
    "path_jhr = r\"C:\\Users\\ReddyAl\\Documents\\CRA\\FY17 Q1\\Data from HCM and BI\\Oracle\\Job History Report 01-Apr-2016 to 30-Sep-2016.csv\""
   ]
  },
  {
   "cell_type": "code",
   "execution_count": 5,
   "metadata": {
    "collapsed": false
   },
   "outputs": [],
   "source": [
    "cancelled = pd.read_excel(path_cancelled, sheetname='Visit Details')#, parse_dates = True)\n",
    "delayed = pd.read_excel(path_delayed, sheetname='Visit Details')#, parse_dates = True)\n",
    "ongoing = pd.read_excel(path_ongoing, sheetname='Visit Details')#, parse_dates = True)"
   ]
  },
  {
   "cell_type": "markdown",
   "metadata": {},
   "source": [
    "## 30-Sep-2016 - End of quarter 2017 Q1"
   ]
  },
  {
   "cell_type": "code",
   "execution_count": 6,
   "metadata": {
    "collapsed": true
   },
   "outputs": [],
   "source": [
    "endOfQuarterER = pd.read_excel(path_endOfQuarterER)"
   ]
  },
  {
   "cell_type": "code",
   "execution_count": 7,
   "metadata": {
    "collapsed": true
   },
   "outputs": [],
   "source": [
    "#27-July-2016"
   ]
  },
  {
   "cell_type": "code",
   "execution_count": 8,
   "metadata": {
    "collapsed": false
   },
   "outputs": [],
   "source": [
    "asOfDateER = pd.read_excel(path_asOfDateER)\n",
    "\n",
    "#Supervisor hierarchy report as on EoQ\n",
    "#shr = pd.read_excel(r\"C:\\Users\\ReddyAl\\Documents\\CRA\\FY16 Q4\\Data from HCM and BI\\HCM\\Supervisor Hierarchy Report 30-June-2016.xlsx\")\n",
    "\n",
    "#Job History report from 01-Apr-2016 to 30-Sep-2016\n",
    "jhr = pd.read_csv(path_jhr)"
   ]
  },
  {
   "cell_type": "code",
   "execution_count": 9,
   "metadata": {
    "collapsed": false
   },
   "outputs": [],
   "source": [
    "headerfiller(endOfQuarterER)\n",
    "headerfiller(asOfDateER)\n",
    "#headerfiller(shr)\n",
    "headerfiller(jhr)\n",
    "headerfiller(ongoing)\n",
    "headerfiller(delayed)\n",
    "headerfiller(cancelled)"
   ]
  },
  {
   "cell_type": "code",
   "execution_count": 10,
   "metadata": {
    "collapsed": false
   },
   "outputs": [],
   "source": [
    "#shr.rename(columns={'Employee_Number':'PID'}, inplace=True)\n",
    "jhr.rename(columns={'Employee_Number':'PID'}, inplace=True)"
   ]
  },
  {
   "cell_type": "code",
   "execution_count": 11,
   "metadata": {
    "collapsed": false
   },
   "outputs": [],
   "source": [
    "ongoing.loc[ongoing.Monitor_ID.isnull(), 'PID'] = ongoing['Additional_Monitor_PID']\n",
    "ongoing.loc[~ongoing.Monitor_ID.isnull(), 'PID'] = ongoing['Monitor_ID']\n",
    "delayed.loc[delayed.Monitor_ID.isnull(), 'PID'] = delayed['Additional_Monitor_PID']\n",
    "delayed.loc[~delayed.Monitor_ID.isnull(), 'PID'] = delayed['Monitor_ID']\n",
    "cancelled.loc[cancelled.Monitor_ID.isnull(), 'PID'] = cancelled['Additional_Monitor_PID']\n",
    "cancelled.loc[~cancelled.Monitor_ID.isnull(), 'PID'] = cancelled['Monitor_ID']\n",
    "\n",
    "ongoing.loc[ongoing.Monitor.isnull(), 'CRA'] = ongoing['Additional_Monitor_Name']\n",
    "ongoing.loc[~ongoing.Monitor.isnull(), 'CRA'] = ongoing['Monitor']\n",
    "delayed.loc[delayed.Monitor.isnull(), 'CRA'] = delayed['Additional_Monitor_Name']\n",
    "delayed.loc[~delayed.Monitor.isnull(), 'CRA'] = delayed['Monitor']\n",
    "cancelled.loc[cancelled.Monitor.isnull(), 'CRA'] = cancelled['Additional_Monitor_Name']\n",
    "cancelled.loc[~cancelled.Monitor.isnull(), 'CRA'] = cancelled['Monitor']"
   ]
  },
  {
   "cell_type": "code",
   "execution_count": 12,
   "metadata": {
    "collapsed": false
   },
   "outputs": [],
   "source": [
    "vists_list = [ongoing, delayed, cancelled]\n",
    "visits = pd.concat(vists_list)"
   ]
  },
  {
   "cell_type": "code",
   "execution_count": 13,
   "metadata": {
    "collapsed": false
   },
   "outputs": [],
   "source": [
    "visits = visits[pd.notnull(visits['Visit_Start_Date'])]\n",
    "#visits['Visit_Start_Date'] = visits.Visit_Start_Date.astype('str')\n",
    "visits['Visit_Start_Date'] = pd.to_datetime(visits['Visit_Start_Date'])\n",
    "visits['Visit_End_Date'] = pd.to_datetime(visits['Visit_End_Date'])\n",
    "mask = (visits['Visit_Start_Date'] >= quarterStart) & (visits['Visit_Start_Date'] <= quarterEnd)\n",
    "visits = visits.loc[mask]\n"
   ]
  },
  {
   "cell_type": "code",
   "execution_count": 14,
   "metadata": {
    "collapsed": false
   },
   "outputs": [],
   "source": [
    "visits['StartMonth'] = pd.DatetimeIndex(visits['Visit_Start_Date']).month\n",
    "visits['StartYear'] = pd.DatetimeIndex(visits['Visit_Start_Date']).year"
   ]
  },
  {
   "cell_type": "code",
   "execution_count": 15,
   "metadata": {
    "collapsed": false
   },
   "outputs": [],
   "source": [
    "ConsolidatedVisits = pd.DataFrame(visits.pivot_table(values = 'CRA', columns=['StartMonth'], index=['PID'], aggfunc=np.count_nonzero)).reset_index()"
   ]
  },
  {
   "cell_type": "code",
   "execution_count": 16,
   "metadata": {
    "collapsed": false
   },
   "outputs": [],
   "source": [
    "endOfQuarterER.rename(columns={'Employee_Full_Name':\"Employee_Full_Name0\"\n",
    "                   ,'Job_Title_Description':'Job_Title_Description0'\n",
    "                   ,'Supervisor_Employee_Number':'Supervisor_Employee_Number0',\n",
    "                    'Employee_Number':'PID'}, inplace = True)\n",
    "\n",
    "for i in range(16):\n",
    "    for col in ['Employee_Full_Name','Job_Title_Description','Supervisor_Employee_Number']:\n",
    "        endOfQuarterER[col+str(i+1)] = endOfQuarterER['Supervisor_Employee_Number'+str(i)].map( \n",
    "                                            endOfQuarterER.set_index('PID')[col+'0'] )\n",
    "\n",
    "endOfQuarterER.rename(columns={'Employee_Full_Name0':\"Employee_Full_Name\"\n",
    "                   ,'Job_Title_Description0':'Job_Title_Description'\n",
    "                   ,'Supervisor_Employee_Number0':'Supervisor_Employee_Number'}, inplace = True)"
   ]
  },
  {
   "cell_type": "code",
   "execution_count": 17,
   "metadata": {
    "collapsed": false
   },
   "outputs": [],
   "source": [
    "visitDataWEndoFQuarterER = ConsolidatedVisits.merge(endOfQuarterER, on='PID', how='left')"
   ]
  },
  {
   "cell_type": "code",
   "execution_count": 18,
   "metadata": {
    "collapsed": true
   },
   "outputs": [],
   "source": [
    "visitDataWEndoFQuarterER['Payroll_Country'] = visitDataWEndoFQuarterER.Payroll_Country.str.lower()"
   ]
  },
  {
   "cell_type": "code",
   "execution_count": 19,
   "metadata": {
    "collapsed": false
   },
   "outputs": [],
   "source": [
    "countryData = pd.read_excel(r\"C:\\Users\\ReddyAl\\Documents\\CRA\\FY16 Q4\\Country Data with Visit Threshold, Per Visit, Std Hrs and FxRates.xlsx\")\n",
    "\n",
    "countryData.rename(columns={'Country':'Payroll_Country'}, inplace=True)\n",
    "countryData['Payroll_Country'] = countryData.Payroll_Country.str.lower()\n",
    "\n",
    "visitERCountry = visitDataWEndoFQuarterER.merge(countryData, on='Payroll_Country', how='left')"
   ]
  },
  {
   "cell_type": "code",
   "execution_count": 20,
   "metadata": {
    "collapsed": false
   },
   "outputs": [],
   "source": [
    "jhr['StartMonth'] = pd.DatetimeIndex(jhr['DW_Effective_Start_Date']).month\n",
    "jhr['StartYear'] = pd.DatetimeIndex(jhr['DW_Effective_Start_Date']).year\n",
    "jhr['Counts'] = jhr.groupby(\"PID\")['PID'].transform('count')"
   ]
  },
  {
   "cell_type": "code",
   "execution_count": 21,
   "metadata": {
    "collapsed": false
   },
   "outputs": [],
   "source": [
    "df = pd.melt(jhr, id_vars=['PID','Counts','StartMonth'], value_vars=['Job_Title_Description'], value_name='Job_Title_Description')\n",
    "jobHistory = pd.DataFrame(df.pivot_table(index=['PID'], columns='StartMonth', values='Job_Title_Description', aggfunc = lambda x: ', '.join(x))).reset_index()"
   ]
  },
  {
   "cell_type": "code",
   "execution_count": 22,
   "metadata": {
    "collapsed": true
   },
   "outputs": [],
   "source": [
    "#writer = pd.ExcelWriter('job history.xlsx')\n",
    "#jobHistory.to_excel(writer, 'Job History')\n",
    "#writer.save()"
   ]
  },
  {
   "cell_type": "code",
   "execution_count": 23,
   "metadata": {
    "collapsed": false
   },
   "outputs": [],
   "source": [
    "visitERCountryJH = visitERCountry.merge(jobHistory, on='PID', how='left')\n",
    "visitERCountryJH['Termination_Status ' + asOnDate] = \"No\"\n",
    "visitERCountryJH.loc[~visitERCountryJH.PID.isin(asOfDateER['PID'].tolist()), ('Termination_Status' + asOnDate)] = 'Yes'\n",
    "writer = pd.ExcelWriter('FY17 Q1 raw master.xlsx')\n",
    "visitERCountryJH.to_excel(writer, 'Raw Master')\n",
    "writer.save()"
   ]
  },
  {
   "cell_type": "code",
   "execution_count": null,
   "metadata": {
    "collapsed": false
   },
   "outputs": [],
   "source": []
  },
  {
   "cell_type": "code",
   "execution_count": null,
   "metadata": {
    "collapsed": true
   },
   "outputs": [],
   "source": []
  }
 ],
 "metadata": {
  "kernelspec": {
   "display_name": "Python 2",
   "language": "python",
   "name": "python2"
  },
  "language_info": {
   "codemirror_mode": {
    "name": "ipython",
    "version": 2
   },
   "file_extension": ".py",
   "mimetype": "text/x-python",
   "name": "python",
   "nbconvert_exporter": "python",
   "pygments_lexer": "ipython2",
   "version": "2.7.11"
  }
 },
 "nbformat": 4,
 "nbformat_minor": 0
}
