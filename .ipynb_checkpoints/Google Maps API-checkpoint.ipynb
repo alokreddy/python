{
 "cells": [
  {
   "cell_type": "code",
   "execution_count": null,
   "metadata": {
    "collapsed": false
   },
   "outputs": [],
   "source": [
    "!pip install -U googlemaps"
   ]
  },
  {
   "cell_type": "code",
   "execution_count": null,
   "metadata": {
    "collapsed": true
   },
   "outputs": [],
   "source": [
    "import pandas as pd\n",
    "import os, glob\n",
    "import googlemaps\n",
    "from datetime import datetime\n",
    "gmaps = googlemaps.Client(key=)\n"
   ]
  },
  {
   "cell_type": "code",
   "execution_count": null,
   "metadata": {
    "collapsed": false
   },
   "outputs": [],
   "source": [
    "path = r'c:/Users/ReddyAl/Documents/Employee Reports/'\n",
    "filename = glob.glob(\"\".join([path, '*.csv']))\n",
    "filename"
   ]
  },
  {
   "cell_type": "code",
   "execution_count": null,
   "metadata": {
    "collapsed": false
   },
   "outputs": [],
   "source": [
    "er = pd.read_csv(filename[3])\n",
    "er.columns = er.columns.str.replace(' ', '_')\n",
    "er['address'] = er['Employee_Building_Name'].str[11:].str.decode('utf-8') + ', ' + er.Employee_Location_City_Name.str.decode('utf-8') + ', ' + er.Employee_Location_Country_Name.str.decode('utf-8')"
   ]
  },
  {
   "cell_type": "code",
   "execution_count": null,
   "metadata": {
    "collapsed": false
   },
   "outputs": [],
   "source": [
    "#er.Employee_Building_Name.str[7:]\n",
    "locations_list = (er.address.unique().tolist())"
   ]
  },
  {
   "cell_type": "code",
   "execution_count": null,
   "metadata": {
    "collapsed": true
   },
   "outputs": [],
   "source": [
    "geocode_result = []\n",
    "\n",
    "for _ in locations_list:\n",
    "    geocode_result.append(gmaps.geocode(_))"
   ]
  },
  {
   "cell_type": "code",
   "execution_count": null,
   "metadata": {
    "collapsed": false
   },
   "outputs": [],
   "source": [
    "# Geocoding an address\n",
    "# Look up an address with reverse geocoding\n",
    "#reverse_geocode_result = gmaps.reverse_geocode((40.714224, -73.961452))\n",
    "\n",
    "# Request directions via public transit\n",
    "now = datetime.now()\n",
    "directions_result = gmaps.directions(\"Raheja Mindspace, Hitech City\",\n",
    "                                     'Gachibowli',\n",
    "                                     mode=\"driving\",\n",
    "                                     departure_time=now)"
   ]
  },
  {
   "cell_type": "code",
   "execution_count": null,
   "metadata": {
    "collapsed": false
   },
   "outputs": [],
   "source": [
    "geocode_result[0].get('address_components', 'Not Found')[-1]\n",
    "[v for (k, v) in geocode_result[0].iteritems() if k == 'types']"
   ]
  },
  {
   "cell_type": "code",
   "execution_count": null,
   "metadata": {
    "collapsed": false
   },
   "outputs": [],
   "source": [
    "geocode_result"
   ]
  },
  {
   "cell_type": "code",
   "execution_count": null,
   "metadata": {
    "collapsed": false
   },
   "outputs": [],
   "source": [
    "for i in range(0, len(geocode_result)):\n",
    "    loc = geocode_result[i][0]\n",
    "    print (loc.get('address_components','NA'))#[-1]) #.get(''))"
   ]
  },
  {
   "cell_type": "code",
   "execution_count": null,
   "metadata": {
    "collapsed": false
   },
   "outputs": [],
   "source": [
    "len(geocode_result)\n",
    "#geocode_result[1][0].get('address_components')"
   ]
  }
 ],
 "metadata": {
  "kernelspec": {
   "display_name": "Python 2",
   "language": "python",
   "name": "python2"
  },
  "language_info": {
   "codemirror_mode": {
    "name": "ipython",
    "version": 2
   },
   "file_extension": ".py",
   "mimetype": "text/x-python",
   "name": "python",
   "nbconvert_exporter": "python",
   "pygments_lexer": "ipython2",
   "version": "2.7.11"
  }
 },
 "nbformat": 4,
 "nbformat_minor": 0
}
