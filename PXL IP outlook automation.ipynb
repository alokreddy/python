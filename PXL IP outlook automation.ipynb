{
 "cells": [
  {
   "cell_type": "code",
   "execution_count": 1,
   "metadata": {
    "collapsed": true
   },
   "outputs": [],
   "source": [
    "import win32com.client as win32\n",
    "import glob\n",
    "import pandas as pd\n",
    "from collections import defaultdict"
   ]
  },
  {
   "cell_type": "code",
   "execution_count": 4,
   "metadata": {
    "collapsed": false
   },
   "outputs": [
    {
     "name": "stdout",
     "output_type": "stream",
     "text": [
      "Input path to sent trackers folder: C:\\Users\\ReddyAl\\Documents\\CRA\\FY17 Q1\\Trackers\\Sent\n"
     ]
    }
   ],
   "source": [
    "path = raw_input('Input path to sent trackers folder: ')+\"\\\\\""
   ]
  },
  {
   "cell_type": "code",
   "execution_count": 7,
   "metadata": {
    "collapsed": false
   },
   "outputs": [],
   "source": [
    "df = pd.read_excel(\"path_to_master_tracker\", sheetname=1)\n",
    "df.columns = df.columns.str.replace(' ','_')\n",
    "#for test runs\n",
    "#df = df[:10]"
   ]
  },
  {
   "cell_type": "code",
   "execution_count": 11,
   "metadata": {
    "collapsed": false
   },
   "outputs": [
    {
     "name": "stdout",
     "output_type": "stream",
     "text": [
      "Number of SLMs: 42\n",
      "Number of LMs: 203\n"
     ]
    }
   ],
   "source": [
    "print \"Number of SLMs: \" + str(len(df.SLM.unique()))\n",
    "print \"Number of LMs: \" + str(df.SLM_Email.count())"
   ]
  },
  {
   "cell_type": "code",
   "execution_count": 12,
   "metadata": {
    "collapsed": true
   },
   "outputs": [],
   "source": [
    "d = defaultdict(list)\n",
    "for i, j in zip(df.SLM_Email,df.Filename):\n",
    "    d[i].append(j)\n",
    "\n",
    "d = dict(d)"
   ]
  },
  {
   "cell_type": "code",
   "execution_count": null,
   "metadata": {
    "collapsed": false
   },
   "outputs": [],
   "source": [
    "for key, value in d.iteritems():\n",
    "    print \"\\n\"\n",
    "    print (\"-----------------------------------------\")\n",
    "    print \"Email ID: \" + key\n",
    "    print \"Name: \" + key.split('.')[0].title()\n",
    "    print \"All the attachments: \"\n",
    "    for i in value:\n",
    "        print \"\\t\" + i\n"
   ]
  },
  {
   "cell_type": "markdown",
   "metadata": {},
   "source": [
    "# Caution!!! \n",
    "## This code sends mails to multiple recipients!\n",
    "### Uncomment first line in next cell to start working."
   ]
  },
  {
   "cell_type": "code",
   "execution_count": null,
   "metadata": {
    "collapsed": true
   },
   "outputs": [],
   "source": [
    "#outlook = win32.Dispatch('outlook.application')\n",
    "\n",
    "\n",
    "for key, value in d.iteritems():\n",
    "\n",
    "    mail = outlook.CreateItem(0)\n",
    "    mail.SentOnBehalfOfName = 'mailID'\n",
    "    mail.CC = \"mailid;mailid1;\"\n",
    "    mail.Subject = 'subjectline'\n",
    "\n",
    "    mail.To = key\n",
    "    \n",
    "    for attach in value:\n",
    "        mail.Attachments.Add(Source = path + attach)\n",
    "    \n",
    "    mail.Attachments.Add(Source = r\"path to common file\")\n",
    "    mail.body = 'Dear ' + key.split('.')[0].title() + ',\\n\\\n",
    "\\n\\\n",
    "\\n\\\n",
    "Thanks,\\n\\\n",
    "\\n\\\n",
    "\\n\\\n",
    "This communication, including any attachments, is intended only for the person or entity to which it is addressed and may contain confidential material. Any review, retransmission, distribution \\\n",
    "or Thank you. Other use of this information by persons or entities other than the intended recipient is prohibited. If you received this in error, please destroy any copies, contact the sender and \\\n",
    "delete the material from any computer.'\n",
    "    mail.send\n",
    "\n",
    "\n",
    "\n"
   ]
  }
 ],
 "metadata": {
  "kernelspec": {
   "display_name": "Python 2",
   "language": "python",
   "name": "python2"
  },
  "language_info": {
   "codemirror_mode": {
    "name": "ipython",
    "version": 2
   },
   "file_extension": ".py",
   "mimetype": "text/x-python",
   "name": "python",
   "nbconvert_exporter": "python",
   "pygments_lexer": "ipython2",
   "version": "2.7.11"
  }
 },
 "nbformat": 4,
 "nbformat_minor": 0
}
