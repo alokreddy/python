{
 "cells": [
  {
   "cell_type": "code",
   "execution_count": 18,
   "metadata": {
    "collapsed": false
   },
   "outputs": [
    {
     "data": {
      "text/plain": [
       "array([[ 376.        ,    1.        ],\n",
       "       [ 167.4       ,    1.        ],\n",
       "       [ 436.6       ,    1.        ],\n",
       "       [ 298.        ,    1.        ],\n",
       "       [ 214.33333333,    1.        ],\n",
       "       [ 500.        ,    1.        ],\n",
       "       [ 409.33333333,    1.        ],\n",
       "       [ 330.        ,    1.        ]])"
      ]
     },
     "execution_count": 18,
     "metadata": {},
     "output_type": "execute_result"
    }
   ],
   "source": [
    "from sklearn.cluster import KMeans\n",
    "import numpy as np\n",
    "X = np.array([[500, 1], [450, 1], [440, 1], [435, 1], [430, 1], [428, 1], [411, 1], [409, 1], [408, 1], [388, 1]\n",
    "              , [375, 1], [371, 1], [370, 1], [330, 1], [308, 1], [301, 1], [299, 1], [284, 1], [222, 1], [211, 1], [210, 1], [179, 1], [177, 1], [164, 1], [162, 1], [155, 1]])\n",
    "kmeans = KMeans(n_clusters=8, random_state=0).fit(X)\n",
    "kmeans.labels_\n",
    "#kmeans.predict([[0, 0], [4, 4]])\n",
    "\n",
    "kmeans.cluster_centers_\n"
   ]
  },
  {
   "cell_type": "code",
   "execution_count": 19,
   "metadata": {
    "collapsed": false
   },
   "outputs": [
    {
     "data": {
      "text/plain": [
       "array([6])"
      ]
     },
     "execution_count": 19,
     "metadata": {},
     "output_type": "execute_result"
    }
   ],
   "source": [
    "kmeans.predict([411, 1])"
   ]
  },
  {
   "cell_type": "code",
   "execution_count": 20,
   "metadata": {
    "collapsed": false
   },
   "outputs": [
    {
     "name": "stdout",
     "output_type": "stream",
     "text": [
      "500 : [5]\n",
      "450 : [2]\n",
      "440 : [2]\n",
      "435 : [2]\n",
      "430 : [2]\n",
      "428 : [2]\n",
      "411 : [6]\n",
      "409 : [6]\n",
      "408 : [6]\n",
      "388 : [0]\n",
      "375 : [0]\n",
      "371 : [0]\n",
      "370 : [0]\n",
      "330 : [7]\n",
      "308 : [3]\n",
      "301 : [3]\n",
      "299 : [3]\n",
      "284 : [3]\n",
      "222 : [4]\n",
      "211 : [4]\n",
      "210 : [4]\n",
      "179 : [1]\n",
      "177 : [1]\n",
      "164 : [1]\n",
      "162 : [1]\n",
      "155 : [1]\n"
     ]
    }
   ],
   "source": [
    "for score in X:\n",
    "    print str(score[0]) + \" : \" + str(kmeans.predict(score))"
   ]
  },
  {
   "cell_type": "code",
   "execution_count": null,
   "metadata": {
    "collapsed": true
   },
   "outputs": [],
   "source": []
  }
 ],
 "metadata": {
  "kernelspec": {
   "display_name": "Python 2",
   "language": "python",
   "name": "python2"
  },
  "language_info": {
   "codemirror_mode": {
    "name": "ipython",
    "version": 2
   },
   "file_extension": ".py",
   "mimetype": "text/x-python",
   "name": "python",
   "nbconvert_exporter": "python",
   "pygments_lexer": "ipython2",
   "version": "2.7.11"
  }
 },
 "nbformat": 4,
 "nbformat_minor": 0
}
