{
 "cells": [
  {
   "cell_type": "code",
   "execution_count": null,
   "metadata": {
    "collapsed": false
   },
   "outputs": [],
   "source": [
    "import pandas as pd\n",
    "import os, glob, re\n",
    "import seaborn as sns\n",
    "from matplotlib import pyplot as plt\n",
    "%matplotlib inline"
   ]
  },
  {
   "cell_type": "code",
   "execution_count": null,
   "metadata": {
    "collapsed": false
   },
   "outputs": [],
   "source": [
    "path = raw_input('enter the path to the folder here: ')\n",
    "filename = glob.glob(\"\".join([path,'*.csv']))\n",
    "er = pd.read_csv(filename[3])\n",
    "\n",
    "er.columns = er.columns.str.replace(' ','_').str.replace('(','_').str.replace(')','_').str.replace('%','perc')\n",
    "_er = er[er.Payroll_Country.isin(['India'])]"
   ]
  },
  {
   "cell_type": "code",
   "execution_count": null,
   "metadata": {
    "collapsed": false
   },
   "outputs": [],
   "source": [
    "sns.jointplot(x='Salary_Change_perc', y='Salary_Change_perc', data=_er, size=6)"
   ]
  },
  {
   "cell_type": "code",
   "execution_count": null,
   "metadata": {
    "collapsed": false
   },
   "outputs": [],
   "source": [
    "sns.FacetGrid(_er, hue=\"Career_Level\", size=6) \\\n",
    "   .map(plt.scatter, \"Length_of_Service__Years_\", \"Salary_per_Pay_Period\") \\\n",
    "   .add_legend()"
   ]
  },
  {
   "cell_type": "code",
   "execution_count": null,
   "metadata": {
    "collapsed": false
   },
   "outputs": [],
   "source": [
    "sns.boxplot(x=\"SBU\", y=\"Salary_per_Pay_Period\", data=_er, hue='Career_Band', fliersize=5, whis=1.5)"
   ]
  },
  {
   "cell_type": "code",
   "execution_count": null,
   "metadata": {
    "collapsed": false
   },
   "outputs": [],
   "source": [
    "sns.violinplot(x=\"Bonus_Percent\", y=\"Length_of_Service__Years_\", data=_er, size=6)"
   ]
  },
  {
   "cell_type": "code",
   "execution_count": null,
   "metadata": {
    "collapsed": false
   },
   "outputs": [],
   "source": [
    "sns.FacetGrid(_er, hue=\"SBU\", size=6) \\\n",
    "   .map(sns.kdeplot, \"Length_of_Service__Years_\") \\\n",
    "   .add_legend()"
   ]
  },
  {
   "cell_type": "code",
   "execution_count": null,
   "metadata": {
    "collapsed": false
   },
   "outputs": [],
   "source": [
    "_ern = _er[['Hourly_Salary',\n",
    "     'Salary_per_Pay_Period', 'Annual_Salary_If_Full_time', \n",
    "     'Length_of_Service__Years_', 'SBU']]\n",
    "sns.pairplot(_ern, hue=\"SBU\", size=3)"
   ]
  },
  {
   "cell_type": "code",
   "execution_count": null,
   "metadata": {
    "collapsed": false
   },
   "outputs": [],
   "source": []
  }
 ],
 "metadata": {
  "kernelspec": {
   "display_name": "Python 2",
   "language": "python",
   "name": "python2"
  },
  "language_info": {
   "codemirror_mode": {
    "name": "ipython",
    "version": 2
   },
   "file_extension": ".py",
   "mimetype": "text/x-python",
   "name": "python",
   "nbconvert_exporter": "python",
   "pygments_lexer": "ipython2",
   "version": "2.7.11"
  }
 },
 "nbformat": 4,
 "nbformat_minor": 0
}
