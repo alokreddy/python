{
 "cells": [
  {
   "cell_type": "code",
   "execution_count": 75,
   "metadata": {
    "collapsed": true
   },
   "outputs": [],
   "source": [
    "import pandas as pd\n",
    "from xlwings import Workbook, Range\n",
    "import os, glob, re\n",
    "from IPython.display import HTML"
   ]
  },
  {
   "cell_type": "code",
   "execution_count": 77,
   "metadata": {
    "collapsed": false
   },
   "outputs": [],
   "source": [
    "class DataReader:\n",
    "    \n",
    "    def __init__(self, path, replace = [' ']):\n",
    "        self._path = path\n",
    "        filepath, extension = os.path.splitext(self._path)\n",
    "        self._filepath = filepath\n",
    "        self._extension = extension\n",
    "        self._replace = replace\n",
    "\n",
    "        if self._extension in ['.csv']:\n",
    "            df = pd.read_csv(self._path)\n",
    "        elif self._extension in ['.xlsx', '.xls']:\n",
    "            df = pd.read_excel(self._path)\n",
    "\n",
    "        self._df = df\n",
    "        \n",
    "    def readfile(self):\n",
    "        \n",
    "        \"\"\" this method will return a dataframe with spaces (and/or other character as specified in the replace parameter)\n",
    "            removed from column names.\"\"\"\n",
    "\n",
    "        for i in self._replace:\n",
    "            self._df.columns = [c.replace(i, '_') for c in self._df.columns]\n",
    "        return self._df\n",
    "\n",
    "#    def groupby(self):\n",
    "\n",
    "def plot_corr(df, size=11):\n",
    "    \"\"\"\n",
    "    Function plots a graphical correlation matrix for each pair of columns in the dataframe.\n",
    "\n",
    "    Input:\n",
    "        df: pandas DataFrame\n",
    "        size: vertical and horizontal size of the plot\n",
    "\n",
    "    Displays:\n",
    "        matrix of correlation between columns.  Blue-cyan-yellow-red-darkred => less to more correlated\n",
    "                                                0 ------------------>  1\n",
    "                                                Expect a darkred line running from top left to bottom right\n",
    "    \"\"\"\n",
    "\n",
    "    corr = df.corr()    # data frame correlation function\n",
    "    fig, ax = plt.subplots(figsize=(size, size))\n",
    "    ax.matshow(corr)   # color code the rectangles by correlation value\n",
    "    plt.xticks(range(len(corr.columns)), corr.columns)  # draw x tick marks\n",
    "    plt.yticks(range(len(corr.columns)), corr.columns)  # draw y tick marks\n"
   ]
  },
  {
   "cell_type": "code",
   "execution_count": null,
   "metadata": {
    "collapsed": false
   },
   "outputs": [],
   "source": [
    "er = DataReader(\"C:\\Users\\ReddyAl\\Documents\\Employee Reports\\Employee Report 16-Sep-2016.csv\")"
   ]
  },
  {
   "cell_type": "code",
   "execution_count": 60,
   "metadata": {
    "collapsed": false
   },
   "outputs": [],
   "source": [
    "er = er.readfile()"
   ]
  },
  {
   "cell_type": "code",
   "execution_count": 74,
   "metadata": {
    "collapsed": false
   },
   "outputs": [
    {
     "name": "stderr",
     "output_type": "stream",
     "text": [
      "Exception AttributeError: \"'GMail' object has no attribute 'session'\" in <bound method GMail.__del__ of <gmail.gmail.GMail object at 0x1052D190>> ignored\n"
     ]
    },
    {
     "ename": "TypeError",
     "evalue": "__init__() takes at least 3 arguments (1 given)",
     "output_type": "error",
     "traceback": [
      "\u001b[1;31m---------------------------------------------------------------------------\u001b[0m",
      "\u001b[1;31mTypeError\u001b[0m                                 Traceback (most recent call last)",
      "\u001b[1;32m<ipython-input-74-353dcce7d8dd>\u001b[0m in \u001b[0;36m<module>\u001b[1;34m()\u001b[0m\n\u001b[0;32m      1\u001b[0m \u001b[1;32mfrom\u001b[0m \u001b[0mgmail\u001b[0m \u001b[1;32mimport\u001b[0m \u001b[0mGMail\u001b[0m\u001b[1;33m\u001b[0m\u001b[0m\n\u001b[1;32m----> 2\u001b[1;33m \u001b[0mg\u001b[0m \u001b[1;33m=\u001b[0m \u001b[0mGMail\u001b[0m\u001b[1;33m(\u001b[0m\u001b[1;33m)\u001b[0m\u001b[1;33m\u001b[0m\u001b[0m\n\u001b[0m\u001b[0;32m      3\u001b[0m \u001b[0mGMail\u001b[0m\u001b[1;33m.\u001b[0m\u001b[0mis_connected\u001b[0m\u001b[1;33m(\u001b[0m\u001b[1;34m'alokreddyk'\u001b[0m\u001b[1;33m,\u001b[0m\u001b[1;34m'Alok@pxl24'\u001b[0m\u001b[1;33m)\u001b[0m\u001b[1;31m#('alokreddyk', 'Alok@pxl24')\u001b[0m\u001b[1;33m\u001b[0m\u001b[0m\n",
      "\u001b[1;31mTypeError\u001b[0m: __init__() takes at least 3 arguments (1 given)"
     ]
    }
   ],
   "source": []
  },
  {
   "cell_type": "code",
   "execution_count": 61,
   "metadata": {
    "collapsed": false
   },
   "outputs": [
    {
     "data": {
      "text/plain": [
       "<__main__.DataReader instance at 0x09102CD8>"
      ]
     },
     "execution_count": 61,
     "metadata": {},
     "output_type": "execute_result"
    }
   ],
   "source": [
    "DataReader(\"C:\\Users\\ReddyAl\\Documents\\Employee Reports\\Employee Report 16-Sep-2016.csv\")"
   ]
  },
  {
   "cell_type": "code",
   "execution_count": 97,
   "metadata": {
    "collapsed": false
   },
   "outputs": [
    {
     "data": {
      "text/plain": [
       "Career_Level  Job_Title_Description                \n",
       "M2            Manager, Drug Safety Physician           1952760.0\n",
       "              Senior Manager, Drug Safety Physician    2488428.0\n",
       "P1            Drug Safety Associate                     601056.0\n",
       "              Drug Safety Specialist                    646164.0\n",
       "P2            Senior Drug Safety Specialist             920088.0\n",
       "P3            Principal Drug Safety Specialist         1326156.0\n",
       "P4            Drug Safety Physician                    1379712.0\n",
       "              Senior Drug Safety Physician             1518480.0\n",
       "U1            Drug Safety Assistant                     390000.0\n",
       "U2            Senior Drug Safety Assistant              613236.0\n",
       "Name: Annual_Salary_If_Full_time, dtype: float64"
      ]
     },
     "execution_count": 97,
     "metadata": {},
     "output_type": "execute_result"
    }
   ],
   "source": [
    "_er = er[er.Job_Title_Description.str.contains('Drug') & er.Payroll_Country.str.contains('India')]\n",
    "_er.groupby(['Career_Level', 'Job_Title_Description'])['Annual_Salary_If_Full_time'].max()"
   ]
  },
  {
   "cell_type": "code",
   "execution_count": 116,
   "metadata": {
    "collapsed": false
   },
   "outputs": [],
   "source": [
    "rows, seats = (range(1,15), \"abcedefghjk\"[:11])"
   ]
  },
  {
   "cell_type": "code",
   "execution_count": 118,
   "metadata": {
    "collapsed": false
   },
   "outputs": [
    {
     "name": "stdout",
     "output_type": "stream",
     "text": [
      "[None,\n",
      " {'a': None,\n",
      "  'b': None,\n",
      "  'c': None,\n",
      "  'd': None,\n",
      "  'e': None,\n",
      "  'f': None,\n",
      "  'g': None,\n",
      "  'h': None,\n",
      "  'j': None,\n",
      "  'k': None},\n",
      " {'a': None,\n",
      "  'b': None,\n",
      "  'c': None,\n",
      "  'd': None,\n",
      "  'e': None,\n",
      "  'f': None,\n",
      "  'g': None,\n",
      "  'h': None,\n",
      "  'j': None,\n",
      "  'k': None},\n",
      " {'a': None,\n",
      "  'b': None,\n",
      "  'c': None,\n",
      "  'd': None,\n",
      "  'e': None,\n",
      "  'f': None,\n",
      "  'g': None,\n",
      "  'h': None,\n",
      "  'j': None,\n",
      "  'k': None},\n",
      " {'a': None,\n",
      "  'b': None,\n",
      "  'c': None,\n",
      "  'd': None,\n",
      "  'e': None,\n",
      "  'f': None,\n",
      "  'g': None,\n",
      "  'h': None,\n",
      "  'j': None,\n",
      "  'k': None},\n",
      " {'a': None,\n",
      "  'b': None,\n",
      "  'c': None,\n",
      "  'd': None,\n",
      "  'e': None,\n",
      "  'f': None,\n",
      "  'g': None,\n",
      "  'h': None,\n",
      "  'j': None,\n",
      "  'k': None},\n",
      " {'a': None,\n",
      "  'b': None,\n",
      "  'c': None,\n",
      "  'd': None,\n",
      "  'e': None,\n",
      "  'f': None,\n",
      "  'g': None,\n",
      "  'h': None,\n",
      "  'j': None,\n",
      "  'k': None},\n",
      " {'a': None,\n",
      "  'b': None,\n",
      "  'c': None,\n",
      "  'd': None,\n",
      "  'e': None,\n",
      "  'f': None,\n",
      "  'g': None,\n",
      "  'h': None,\n",
      "  'j': None,\n",
      "  'k': None},\n",
      " {'a': None,\n",
      "  'b': None,\n",
      "  'c': None,\n",
      "  'd': None,\n",
      "  'e': None,\n",
      "  'f': None,\n",
      "  'g': None,\n",
      "  'h': None,\n",
      "  'j': None,\n",
      "  'k': None},\n",
      " {'a': None,\n",
      "  'b': None,\n",
      "  'c': None,\n",
      "  'd': None,\n",
      "  'e': None,\n",
      "  'f': None,\n",
      "  'g': None,\n",
      "  'h': None,\n",
      "  'j': None,\n",
      "  'k': None},\n",
      " {'a': None,\n",
      "  'b': None,\n",
      "  'c': None,\n",
      "  'd': None,\n",
      "  'e': None,\n",
      "  'f': None,\n",
      "  'g': None,\n",
      "  'h': None,\n",
      "  'j': None,\n",
      "  'k': None},\n",
      " {'a': None,\n",
      "  'b': None,\n",
      "  'c': None,\n",
      "  'd': None,\n",
      "  'e': None,\n",
      "  'f': None,\n",
      "  'g': None,\n",
      "  'h': None,\n",
      "  'j': None,\n",
      "  'k': None},\n",
      " {'a': None,\n",
      "  'b': None,\n",
      "  'c': None,\n",
      "  'd': None,\n",
      "  'e': None,\n",
      "  'f': None,\n",
      "  'g': None,\n",
      "  'h': None,\n",
      "  'j': None,\n",
      "  'k': None},\n",
      " {'a': None,\n",
      "  'b': None,\n",
      "  'c': None,\n",
      "  'd': None,\n",
      "  'e': None,\n",
      "  'f': None,\n",
      "  'g': None,\n",
      "  'h': None,\n",
      "  'j': None,\n",
      "  'k': None},\n",
      " {'a': None,\n",
      "  'b': None,\n",
      "  'c': None,\n",
      "  'd': None,\n",
      "  'e': None,\n",
      "  'f': None,\n",
      "  'g': None,\n",
      "  'h': None,\n",
      "  'j': None,\n",
      "  'k': None}]\n"
     ]
    }
   ],
   "source": [
    "from pprint import pprint as pp\n",
    "pp([None] + [{letter: None for letter in seats} for _ in rows])"
   ]
  },
  {
   "cell_type": "code",
   "execution_count": null,
   "metadata": {
    "collapsed": true
   },
   "outputs": [],
   "source": []
  }
 ],
 "metadata": {
  "kernelspec": {
   "display_name": "Python 2",
   "language": "python",
   "name": "python2"
  },
  "language_info": {
   "codemirror_mode": {
    "name": "ipython",
    "version": 2
   },
   "file_extension": ".py",
   "mimetype": "text/x-python",
   "name": "python",
   "nbconvert_exporter": "python",
   "pygments_lexer": "ipython2",
   "version": "2.7.11"
  }
 },
 "nbformat": 4,
 "nbformat_minor": 0
}
