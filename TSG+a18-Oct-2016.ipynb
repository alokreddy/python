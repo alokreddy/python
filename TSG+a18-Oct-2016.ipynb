{
 "cells": [
  {
   "cell_type": "code",
   "execution_count": null,
   "metadata": {
    "collapsed": false
   },
   "outputs": [],
   "source": [
    "import pandas as pd\n",
    "from xlwings import Workbook, Range\n",
    "import os, re\n",
    "from matplotlib import pyplot as plt\n",
    "import numpy as np"
   ]
  },
  {
   "cell_type": "code",
   "execution_count": null,
   "metadata": {
    "collapsed": false
   },
   "outputs": [],
   "source": [
    "er_path = r\"C:\\Users\\ReddyAl\\Documents\\Surveys\\2016\\TSG\\Compensation Planning Survey\\Oracle Employee Report 10-Oct-2016.xlsx\"\n",
    "fd_path = r\"C:\\Users\\ReddyAl\\Documents\\Surveys\\2016\\TSG\\Compensation Planning Survey\\Focal 2016 12-Oct-2016 1.30 PM IST.xlsx\"\n",
    "mip_path = r\"C:\\Users\\ReddyAl\\Documents\\Surveys\\2016\\TSG\\Compensation Planning Survey\\FY16 MIP Master File 20-Oct-2016.XLSX\"\n",
    "\n",
    "er = pd.read_excel(er_path, encoding = 'utf-8')\n",
    "fd = pd.read_excel(fd_path, encoding = 'utf-8')\n",
    "mip = pd.read_excel(mip_path, encoding = 'utf-8', sheetname=\"MIP Emp Summary & Metrics\")"
   ]
  },
  {
   "cell_type": "code",
   "execution_count": null,
   "metadata": {
    "collapsed": false
   },
   "outputs": [],
   "source": [
    "def headerfiller(df,replace_chars = {' ':'_'\n",
    "                                     ,'\\n':'_'\n",
    "                                     ,'-':'_'\n",
    "                                     ,'%':'Perc'\n",
    "                                     ,'\\?':'_Que'}):\n",
    "    for key, value in replace_chars.iteritems():\n",
    "        df.columns = [re.sub(key, value, c) for c in df.columns]\n",
    "\n",
    "headerfiller(er)\n",
    "headerfiller(fd)\n",
    "headerfiller(mip)"
   ]
  },
  {
   "cell_type": "code",
   "execution_count": null,
   "metadata": {
    "collapsed": false
   },
   "outputs": [],
   "source": [
    "df = er.merge(fd, left_on='PID', right_on='Employee_ID', how='inner')\n",
    "df = df.merge(mip, on='PID', how ='left')"
   ]
  },
  {
   "cell_type": "code",
   "execution_count": null,
   "metadata": {
    "collapsed": false
   },
   "outputs": [],
   "source": [
    "df = df[df.Payroll_Country_x.isin(['United States']) & df.Payroll_Country_y.isin(['United States'])]"
   ]
  },
  {
   "cell_type": "markdown",
   "metadata": {},
   "source": [
    "# Non Exempt"
   ]
  },
  {
   "cell_type": "code",
   "execution_count": null,
   "metadata": {
    "collapsed": true
   },
   "outputs": [],
   "source": [
    "nonexempt = df[df['FLSA_Status_Description']=='Non-Exempt']"
   ]
  },
  {
   "cell_type": "markdown",
   "metadata": {},
   "source": [
    "## Non Exempt merit as percent of total"
   ]
  },
  {
   "cell_type": "code",
   "execution_count": null,
   "metadata": {
    "collapsed": false
   },
   "outputs": [],
   "source": [
    "x = nonexempt.Proposed_Merit_Increase_Amount.sum()\n",
    "y = nonexempt.Current_Salary_FTE.sum()\n",
    "\n",
    "z = x/y*100\n",
    "\n",
    "print z"
   ]
  },
  {
   "cell_type": "markdown",
   "metadata": {},
   "source": [
    "## Non Exempt general (Adj) as percent of total"
   ]
  },
  {
   "cell_type": "code",
   "execution_count": null,
   "metadata": {
    "collapsed": false
   },
   "outputs": [],
   "source": [
    "x = nonexempt[nonexempt['Additional_Increase_Reason'] == 'Adjustment'].Additional_Increase_Amount.sum()\n",
    "y = nonexempt.Current_Salary_FTE .sum()\n",
    "\n",
    "z = x/y*100\n",
    "\n",
    "print z"
   ]
  },
  {
   "cell_type": "markdown",
   "metadata": {},
   "source": [
    "## Non Exempt Promotion as percent of total"
   ]
  },
  {
   "cell_type": "code",
   "execution_count": null,
   "metadata": {
    "collapsed": false
   },
   "outputs": [],
   "source": [
    "x = nonexempt[nonexempt['Additional_Increase_Reason'] == 'Promotion'].Additional_Increase_Amount.sum()\n",
    "y = nonexempt.Current_Salary_FTE .sum()\n",
    "\n",
    "z = x/y*100\n",
    "\n",
    "print z"
   ]
  },
  {
   "cell_type": "markdown",
   "metadata": {},
   "source": [
    "# Exempt Non-Management"
   ]
  },
  {
   "cell_type": "code",
   "execution_count": null,
   "metadata": {
    "collapsed": true
   },
   "outputs": [],
   "source": [
    "exempt_nonmanage = df[(df['FLSA_Status_Description'] == 'Exempt') & \n",
    "                      df['Career_Band'].isin(['Professional', 'Business Support', 'Technical Support'])]"
   ]
  },
  {
   "cell_type": "markdown",
   "metadata": {},
   "source": [
    "## Exempt Non-Management merit as percent of total"
   ]
  },
  {
   "cell_type": "code",
   "execution_count": null,
   "metadata": {
    "collapsed": false
   },
   "outputs": [],
   "source": [
    "x = exempt_nonmanage.Proposed_Merit_Increase_Amount.sum()\n",
    "y = exempt_nonmanage.Current_Salary_FTE .sum()\n",
    "\n",
    "z = x/y*100\n",
    "\n",
    "print z"
   ]
  },
  {
   "cell_type": "markdown",
   "metadata": {},
   "source": [
    "## Exempt Non-Management general (adj) as percent of total"
   ]
  },
  {
   "cell_type": "code",
   "execution_count": null,
   "metadata": {
    "collapsed": false
   },
   "outputs": [],
   "source": [
    "x = exempt_nonmanage[exempt_nonmanage['Additional_Increase_Reason'] == 'Adjustment'].Additional_Increase_Amount.sum()\n",
    "y = exempt_nonmanage.Current_Salary_FTE .sum()\n",
    "\n",
    "z = x/y*100\n",
    "\n",
    "print z"
   ]
  },
  {
   "cell_type": "markdown",
   "metadata": {},
   "source": [
    "## Exempt Non-Management promotion as percent of total"
   ]
  },
  {
   "cell_type": "code",
   "execution_count": null,
   "metadata": {
    "collapsed": false,
    "scrolled": true
   },
   "outputs": [],
   "source": [
    "x = exempt_nonmanage[exempt_nonmanage['Additional_Increase_Reason'] == 'Promotion'].Proposed_Merit_Increase_Amount.sum()\n",
    "y = exempt_nonmanage.Current_Salary_FTE .sum()\n",
    "\n",
    "z = x/y*100\n",
    "\n",
    "print z"
   ]
  },
  {
   "cell_type": "markdown",
   "metadata": {},
   "source": [
    "# Management"
   ]
  },
  {
   "cell_type": "code",
   "execution_count": null,
   "metadata": {
    "collapsed": true
   },
   "outputs": [],
   "source": [
    "manage = df[df['Career_Band'].isin(['Supervisory / Management'])]"
   ]
  },
  {
   "cell_type": "markdown",
   "metadata": {},
   "source": [
    "## Management merit as percent of total"
   ]
  },
  {
   "cell_type": "code",
   "execution_count": null,
   "metadata": {
    "collapsed": false
   },
   "outputs": [],
   "source": [
    "x = manage.Proposed_Merit_Increase_Amount.sum()\n",
    "y = manage.Current_Salary_FTE .sum()\n",
    "\n",
    "z = x/y*100\n",
    "\n",
    "print z"
   ]
  },
  {
   "cell_type": "markdown",
   "metadata": {},
   "source": [
    "## Management general (adj) as percent of total"
   ]
  },
  {
   "cell_type": "code",
   "execution_count": null,
   "metadata": {
    "collapsed": false
   },
   "outputs": [],
   "source": [
    "x = manage[manage['Additional_Increase_Reason'] == 'Adjustment'].Additional_Increase_Amount.sum()\n",
    "y = manage.Current_Salary_FTE .sum()\n",
    "\n",
    "z = x/y*100\n",
    "\n",
    "print z"
   ]
  },
  {
   "cell_type": "markdown",
   "metadata": {},
   "source": [
    "## Management promotion as percent of total"
   ]
  },
  {
   "cell_type": "code",
   "execution_count": null,
   "metadata": {
    "collapsed": false
   },
   "outputs": [],
   "source": [
    "x = manage[manage['Additional_Increase_Reason'] == 'Promotion'].Additional_Increase_Amount.sum()\n",
    "y = manage.Current_Salary_FTE .sum()\n",
    "\n",
    "z = x/y*100\n",
    "\n",
    "print z"
   ]
  },
  {
   "cell_type": "markdown",
   "metadata": {},
   "source": [
    "# Executive"
   ]
  },
  {
   "cell_type": "code",
   "execution_count": null,
   "metadata": {
    "collapsed": true
   },
   "outputs": [],
   "source": [
    "executive = df[df['Career_Band'].isin(['Executive / Senior Management'])]"
   ]
  },
  {
   "cell_type": "markdown",
   "metadata": {},
   "source": [
    "## Executive merit as percent of total"
   ]
  },
  {
   "cell_type": "code",
   "execution_count": null,
   "metadata": {
    "collapsed": false
   },
   "outputs": [],
   "source": [
    "x = executive.Proposed_Merit_Increase_Amount.sum()\n",
    "y = executive.Current_Salary_FTE .sum()\n",
    "\n",
    "z = x/y*100\n",
    "\n",
    "print z"
   ]
  },
  {
   "cell_type": "markdown",
   "metadata": {},
   "source": [
    "## Executive general (adj) as percent of total"
   ]
  },
  {
   "cell_type": "code",
   "execution_count": null,
   "metadata": {
    "collapsed": false
   },
   "outputs": [],
   "source": [
    "x = executive[executive['Additional_Increase_Reason'] == 'Adjustment'].Additional_Increase_Amount.sum()\n",
    "y = executive.Current_Salary_FTE .sum()\n",
    "\n",
    "z = x/y*100\n",
    "\n",
    "print z"
   ]
  },
  {
   "cell_type": "markdown",
   "metadata": {},
   "source": [
    "## Executive promotion as percent of total"
   ]
  },
  {
   "cell_type": "code",
   "execution_count": null,
   "metadata": {
    "collapsed": false
   },
   "outputs": [],
   "source": [
    "x = executive[executive['Additional_Increase_Reason'] == 'Promotion'].Additional_Increase_Amount.sum()\n",
    "y = executive.Current_Salary_FTE .sum()\n",
    "\n",
    "z = x/y*100\n",
    "\n",
    "print z"
   ]
  },
  {
   "cell_type": "markdown",
   "metadata": {},
   "source": [
    "# Over All"
   ]
  },
  {
   "cell_type": "markdown",
   "metadata": {},
   "source": [
    "## Merit"
   ]
  },
  {
   "cell_type": "code",
   "execution_count": null,
   "metadata": {
    "collapsed": false
   },
   "outputs": [],
   "source": [
    "x = df.Proposed_Merit_Increase_Amount.sum()\n",
    "y = df.Current_Salary_FTE .sum()\n",
    "\n",
    "z = x/y*100\n",
    "\n",
    "print z"
   ]
  },
  {
   "cell_type": "markdown",
   "metadata": {},
   "source": [
    "## Adjustment"
   ]
  },
  {
   "cell_type": "code",
   "execution_count": null,
   "metadata": {
    "collapsed": false
   },
   "outputs": [],
   "source": [
    "x = df.Additional_Increase_Amount.sum()\n",
    "y = df.Current_Salary_FTE .sum()\n",
    "\n",
    "z = x/y*100\n",
    "\n",
    "print z"
   ]
  },
  {
   "cell_type": "markdown",
   "metadata": {},
   "source": [
    "## Promotion"
   ]
  },
  {
   "cell_type": "code",
   "execution_count": null,
   "metadata": {
    "collapsed": false
   },
   "outputs": [],
   "source": [
    "x = df.Additional_Increase_Amount.sum()\n",
    "y = df.Current_Salary_FTE .sum()\n",
    "\n",
    "z = x/y*100\n",
    "\n",
    "print z"
   ]
  },
  {
   "cell_type": "markdown",
   "metadata": {},
   "source": [
    "# Short-Term Incentive Plans"
   ]
  },
  {
   "cell_type": "code",
   "execution_count": null,
   "metadata": {
    "collapsed": false
   },
   "outputs": [],
   "source": [
    "_list = ['MIP', 'MIP2']\n",
    "\n",
    "df.loc[(df.Bonus_Plan.isin(_list)), 'TSGBonusPlan'] = 'MIP'\n",
    "df.loc[(df.Bonus_Plan_Override.isin(_list)), 'TSGBonusPlan'] = 'MIP'"
   ]
  },
  {
   "cell_type": "code",
   "execution_count": null,
   "metadata": {
    "collapsed": false
   },
   "outputs": [],
   "source": [
    "df.TSGBonusPlan.fillna('NoMIP', inplace=True)\n",
    "df.TSGBonusPlan.value_counts(normalize=True)*100"
   ]
  },
  {
   "cell_type": "code",
   "execution_count": null,
   "metadata": {
    "collapsed": false
   },
   "outputs": [],
   "source": [
    "df['TSGBonusPerc'] = df[df.Bonus_Plan.isin(['MIP', 'MIP2'])]['Bonus_Percent']\n",
    "df.loc[df.Bonus_Plan_Override.isin(['MIP', 'MIP2']), 'TSGBonusPerc'] = df['Bonus_Percent_Override']"
   ]
  },
  {
   "cell_type": "code",
   "execution_count": null,
   "metadata": {
    "collapsed": false
   },
   "outputs": [],
   "source": [
    "#Testing\n",
    "print (df.TSGBonusPerc.sum())\n",
    "print (df[df.Bonus_Plan.isin(['MIP','MIP2'])].Bonus_Percent.sum())\n",
    "print (df[df.Bonus_Plan_Override.isin(['MIP','MIP2'])].Bonus_Percent_Override.sum())\n",
    "print (df[df.Bonus_Plan.isin(['MIP','MIP2'])].Bonus_Percent.sum() + \n",
    "       df[df.Bonus_Plan_Override.isin(['MIP','MIP2'])].Bonus_Percent_Override.sum())"
   ]
  },
  {
   "cell_type": "markdown",
   "metadata": {},
   "source": [
    "## % of Non-Exempt eligible to receive MIP"
   ]
  },
  {
   "cell_type": "code",
   "execution_count": null,
   "metadata": {
    "collapsed": false
   },
   "outputs": [],
   "source": [
    "print (df[df['FLSA_Status_Description'] == 'Non-Exempt'].TSGBonusPlan.value_counts(normalize = True)*100)\n",
    "\n",
    "x = df[df['FLSA_Status_Description'] == 'Non-Exempt'].TSGBonusPerc.multiply(df.Annual_Salary_If_Full_time).sum()\n",
    "\n",
    "y = df[(df['TSGBonusPlan']=='MIP') \n",
    "       & (df['FLSA_Status_Description'] == 'Non-Exempt')].Annual_Salary_If_Full_time.sum()\n",
    "\n",
    "z = x/y*100\n",
    "\n",
    "\n",
    "a = df[df['FLSA_Status_Description'] == 'Non-Exempt'].Final_Discounted_MIP_USD.sum()\n",
    "\n",
    "b = df[(df['TSGBonusPlan']=='MIP') \n",
    "       & (df['FLSA_Status_Description'] == 'Non-Exempt')].Annual_Salary_If_Full_time.sum()\n",
    "\n",
    "c = a/b*100\n",
    "\n",
    "\n",
    "i = df[df['FLSA_Status_Description'] == 'Non-Exempt'].TSGBonusPerc.multiply(df.Final_Salary_FTE).sum()\n",
    "\n",
    "j = df[(df['TSGBonusPlan']=='MIP') \n",
    "       & (df['FLSA_Status_Description'] == 'Non-Exempt')].Final_Salary_FTE.sum()\n",
    "\n",
    "k = i/j*100\n",
    "\n",
    "\n",
    "\n",
    "print (\"Total Bonus Budgeted : \" + str(x))\n",
    "print (\"Total Annual Sal of MIP Emps: \" + str(y))\n",
    "print (\"MIP Budget as % of Annual Sal(Sum) of Eligible Emps: \" + str(z))\n",
    "print (\"MIP Actual as % of Annual Sal(Sum) of Eligible Emps: \" + str(c))\n",
    "print (\"MIP Next Budget as % of Annual Sal(Sum) of Eligible Emps: \" + str(k))"
   ]
  },
  {
   "cell_type": "markdown",
   "metadata": {},
   "source": [
    "## % of Exempt Non-Mangement eligible"
   ]
  },
  {
   "cell_type": "code",
   "execution_count": null,
   "metadata": {
    "collapsed": false
   },
   "outputs": [],
   "source": [
    "print(df[(df.FLSA_Status_Description.isin(['Exempt'])) &\n",
    "   (df.Career_Band.isin(['Professional', \n",
    "                           'Business Support', \n",
    "                           'Technical Support']))].TSGBonusPlan.value_counts(normalize = True)*100)\n",
    "\n",
    "print('\\n #############################################################################')\n",
    "\n",
    "x = df[(df['FLSA_Status_Description'] == 'Exempt') & \n",
    "       (df.Career_Band.isin(['Professional',\n",
    "                             'Business Support', \n",
    "                             'Technical Support'])) & \n",
    "       (df.TSGBonusPlan.isin(['MIP']))].TSGBonusPerc.multiply(df.Annual_Salary_If_Full_time).sum()\n",
    "\n",
    "y = df[(df['TSGBonusPlan']=='MIP') &\n",
    "       (df['FLSA_Status_Description'] == 'Exempt') & \n",
    "       (df.Career_Band.isin(['Professional', \n",
    "                             'Business Support', \n",
    "                             'Technical Support']))].Annual_Salary_If_Full_time.sum()\n",
    "\n",
    "z = x/y*100\n",
    "\n",
    "\n",
    "a = df[(df['FLSA_Status_Description'] == 'Exempt') & \n",
    "       (df.Career_Band.isin(['Professional',\n",
    "                             'Business Support', \n",
    "                             'Technical Support'])) &\n",
    "      (df.TSGBonusPlan.isin(['MIP']))].Final_Discounted_MIP_USD.sum()\n",
    "\n",
    "b = df[(df['TSGBonusPlan']=='MIP') &\n",
    "       (df['FLSA_Status_Description'] == 'Exempt') & \n",
    "       (df.Career_Band.isin(['Professional', \n",
    "                             'Business Support', \n",
    "                             'Technical Support']))].Annual_Salary_If_Full_time.sum()\n",
    "\n",
    "c = a/b*100\n",
    "\n",
    "\n",
    "i = df[(df['FLSA_Status_Description'] == 'Exempt') & \n",
    "       (df.Career_Band.isin(['Professional',\n",
    "                             'Business Support', \n",
    "                             'Technical Support'])) & \n",
    "       (df.TSGBonusPlan.isin(['MIP']))].TSGBonusPerc.multiply(df.Final_Salary_FTE).sum()\n",
    "\n",
    "j = df[(df['TSGBonusPlan']=='MIP') &\n",
    "       (df['FLSA_Status_Description'] == 'Exempt') & \n",
    "       (df.Career_Band.isin(['Professional', \n",
    "                             'Business Support', \n",
    "                             'Technical Support']))].Final_Salary_FTE.sum()\n",
    "\n",
    "k = i/j*100\n",
    "\n",
    "\n",
    "print (\"Total Bonus Budgeted : \" + str(x))\n",
    "print (\"Total Annual Sal of MIP Emps: \" + str(y))\n",
    "print (\"MIP Budget as % of Annual Sal of Eligible Emps: \" + str(z))\n",
    "print (\"MIP Actual as % of Annual Sal of Eligible Emps: \" + str(c))\n",
    "print (\"MIP Next Budget as % of Annual Sal of Eligible Emps: \" + str(k))"
   ]
  },
  {
   "cell_type": "markdown",
   "metadata": {},
   "source": [
    "## % of Management eligible for MIP"
   ]
  },
  {
   "cell_type": "code",
   "execution_count": null,
   "metadata": {
    "collapsed": false
   },
   "outputs": [],
   "source": [
    "print(df[(df.Career_Band.isin(['Supervisory / Management', \n",
    "                               'Customer / Client Management and Sales']))].TSGBonusPlan.value_counts(normalize = True)*100)\n",
    "\n",
    "print ('\\n')\n",
    "\n",
    "x = df[(df.Career_Band.isin(['Supervisory / Management', \n",
    "                             'Customer / Client Management and Sales']))].TSGBonusPerc.multiply(df.Annual_Salary_If_Full_time).sum()\n",
    "\n",
    "y = df[(df['TSGBonusPlan']=='MIP') & \n",
    "       (df.Career_Band.isin(['Supervisory / Management',\n",
    "                             'Customer / Client Management and Sales']))].Annual_Salary_If_Full_time.sum()\n",
    "\n",
    "z = x/y*100\n",
    "\n",
    "\n",
    "a = df[(df.Career_Band.isin(['Supervisory / Management', \n",
    "                             'Customer / Client Management and Sales']))].Final_Discounted_MIP_USD.sum()\n",
    "\n",
    "b = df[(df['TSGBonusPlan']=='MIP') & \n",
    "       (df.Career_Band.isin(['Supervisory / Management',\n",
    "                             'Customer / Client Management and Sales']))].Annual_Salary_If_Full_time.sum()\n",
    "\n",
    "c = a/b*100\n",
    "\n",
    "\n",
    "i = df[(df.Career_Band.isin(['Supervisory / Management', \n",
    "                             'Customer / Client Management and Sales']))].TSGBonusPerc.multiply(df.Final_Salary_FTE).sum()\n",
    "\n",
    "j = df[(df['TSGBonusPlan']=='MIP') & \n",
    "       (df.Career_Band.isin(['Supervisory / Management',\n",
    "                             'Customer / Client Management and Sales']))].Final_Salary_FTE.sum()\n",
    "\n",
    "k = i/j*100\n",
    "\n",
    "\n",
    "\n",
    "print (\"Total Bonus Budgeted : \" + str(x))\n",
    "print (\"Total Annual Sal of MIP Emps: \" + str(y))\n",
    "print (\"MIP Budget as % of Annual Sal of Eligible Emps: \" + str(z))\n",
    "print (\"MIP Actual as % of Annual Sal of Eligible Emps: \" + str(c))\n",
    "print (\"MIP Next Budget as % of Annual Sal of Eligible Emps: \" + str(k))"
   ]
  },
  {
   "cell_type": "markdown",
   "metadata": {},
   "source": [
    "## % of Executive eligible for MIP"
   ]
  },
  {
   "cell_type": "code",
   "execution_count": null,
   "metadata": {
    "collapsed": false
   },
   "outputs": [],
   "source": [
    "print (df[(df.Career_Band.isin(['Executive / Senior Management']))].TSGBonusPlan.value_counts(normalize = True)*100)\n",
    "\n",
    "print ('\\n')\n",
    "\n",
    "x = df[(df.Career_Band.isin(['Executive / Senior Management']))].TSGBonusPerc.multiply(df.Annual_Salary_If_Full_time).sum()\n",
    "\n",
    "y = df[(df['TSGBonusPlan']=='MIP') & \n",
    "       df.Career_Band.isin(['Executive / Senior Management'])].Annual_Salary_If_Full_time.sum()\n",
    "\n",
    "z = x/y*100\n",
    "\n",
    "a = df[(df.Career_Band.isin(['Executive / Senior Management']))].Final_Discounted_MIP_USD.sum()\n",
    "\n",
    "b = df[(df['TSGBonusPlan']=='MIP') & \n",
    "       df.Career_Band.isin(['Executive / Senior Management'])].Annual_Salary_If_Full_time.sum()\n",
    "\n",
    "c = a/b*100\n",
    "\n",
    "i = df[(df.Career_Band.isin(['Executive / Senior Management']))].TSGBonusPerc.multiply(df.Final_Salary_FTE).sum()\n",
    "\n",
    "j = df[(df['TSGBonusPlan']=='MIP') & \n",
    "       df.Career_Band.isin(['Executive / Senior Management'])].Final_Salary_FTE.sum()\n",
    "\n",
    "k = i/j*100\n",
    "\n",
    "\n",
    "print (\"Total Bonus Budgeted : \" + str(x))\n",
    "print (\"Total Annual Sal of MIP Emps: \" + str(y))\n",
    "print (\"MIP Budget as % of Annual Sal of Eligible Emps: \" + str(z))\n",
    "print (\"MIP Actual as % of Annual Sal of Eligible Emps: \" + str(c))\n",
    "print (\"MIP Next Budget as % of Annual Sal of Eligible Emps: \" + str(k))"
   ]
  },
  {
   "cell_type": "markdown",
   "metadata": {},
   "source": [
    "# Average Budgeted"
   ]
  },
  {
   "cell_type": "code",
   "execution_count": null,
   "metadata": {
    "collapsed": false
   },
   "outputs": [],
   "source": [
    "print (df[(df.FLSA_Status_Description.isin(['Non-Exempt'])) & (df.Bonus_Plan_Override.isin(['MIP', 'MIP2']))]['Bonus_Percent_Override'])\n"
   ]
  },
  {
   "cell_type": "code",
   "execution_count": null,
   "metadata": {
    "collapsed": false
   },
   "outputs": [],
   "source": [
    "df.Career_Band.value_counts()"
   ]
  },
  {
   "cell_type": "code",
   "execution_count": null,
   "metadata": {
    "collapsed": true
   },
   "outputs": [],
   "source": []
  },
  {
   "cell_type": "code",
   "execution_count": null,
   "metadata": {
    "collapsed": false
   },
   "outputs": [],
   "source": [
    "df.FLSA_Status_Description.value_counts()"
   ]
  },
  {
   "cell_type": "code",
   "execution_count": null,
   "metadata": {
    "collapsed": false
   },
   "outputs": [],
   "source": [
    "df.pivot_table(values='Total_Increase_Amount', index=['FLSA_Status_Description'], columns=['Career_Band'])"
   ]
  },
  {
   "cell_type": "code",
   "execution_count": null,
   "metadata": {
    "collapsed": false
   },
   "outputs": [],
   "source": [
    "df[df.FLSA_Status_Description.isin(['Unknown'])][['Assignment_Category', 'Payroll_Country_x','Payroll_Country_y']]"
   ]
  },
  {
   "cell_type": "code",
   "execution_count": null,
   "metadata": {
    "collapsed": true
   },
   "outputs": [],
   "source": []
  }
 ],
 "metadata": {
  "kernelspec": {
   "display_name": "Python 2",
   "language": "python",
   "name": "python2"
  },
  "language_info": {
   "codemirror_mode": {
    "name": "ipython",
    "version": 2
   },
   "file_extension": ".py",
   "mimetype": "text/x-python",
   "name": "python",
   "nbconvert_exporter": "python",
   "pygments_lexer": "ipython2",
   "version": "2.7.11"
  }
 },
 "nbformat": 4,
 "nbformat_minor": 0
}
